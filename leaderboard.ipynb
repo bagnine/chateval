{
 "metadata": {
  "language_info": {
   "codemirror_mode": {
    "name": "ipython",
    "version": 3
   },
   "file_extension": ".py",
   "mimetype": "text/x-python",
   "name": "python",
   "nbconvert_exporter": "python",
   "pygments_lexer": "ipython3",
   "version": "3.6.9-final"
  },
  "orig_nbformat": 2,
  "kernelspec": {
   "name": "python3",
   "display_name": "Python 3.6.9 64-bit",
   "metadata": {
    "interpreter": {
     "hash": "9b546e02e2ae7bc31ff393e72c59458abdd61657dbde44a42856f782e397745f"
    }
   }
  }
 },
 "nbformat": 4,
 "nbformat_minor": 2,
 "cells": [
  {
   "cell_type": "code",
   "execution_count": 1,
   "metadata": {},
   "outputs": [],
   "source": [
    "import numpy as np\n",
    "import pandas as pd\n",
    "import pymysql"
   ]
  },
  {
   "cell_type": "code",
   "execution_count": 2,
   "metadata": {},
   "outputs": [],
   "source": [
    "# Unpack locally stored database info\n",
    "\n",
    "info = open('dbinfo.txt')\n",
    "host, user, psswd, db = [i.split(' ')[1].replace('\"', '').replace('\\n', '').rstrip() for i in info]"
   ]
  },
  {
   "cell_type": "code",
   "execution_count": 3,
   "metadata": {},
   "outputs": [],
   "source": [
    "db = pymysql.connect(host= host, user= user, passwd= psswd, db= db)\n",
    "c = db.cursor()"
   ]
  },
  {
   "cell_type": "code",
   "execution_count": 4,
   "metadata": {},
   "outputs": [],
   "source": [
    "# c.execute(\"SELECT * from demo.HumanEvaluationsABComparison WHERE prompt_id<201\") # for the ncm\n",
    "# c.execute(\"SELECT * from demo.HumanEvaluationsABComparison WHERE 200 < prompt_id<401\") # DBDC\n",
    "# c.execute(\"SELECT * from demo.HumanEvaluationsABComparison WHERE 2600 < prompt_id<2801\") # Twitter\n",
    "# c.execute(\"SELECT * from demo.HumanEvaluationsABComparison WHERE 3000 < prompt_id<4001\") # Cornell\n",
    "# c.execute(\"SELECT * from demo.HumanEvaluationsABComparison WHERE 4000 < prompt_id<4200\") # ESL_3turn\n",
    "c.execute(\"SELECT * from demo.HumanEvaluationsABComparison WHERE 4000 < prompt_id<4200\") # Movie\n",
    "raw_eval_data = c.fetchall()\n",
    "c.execute(\"SELECT * from demo.HumanEvaluations\")\n",
    "mturk_runs = c.fetchall()\n",
    "c.execute('SELECT model_id, name from demo.Model')\n",
    "model_names = c.fetchall()\n",
    "c.execute('SELECT prompt_id, prompt_text from demo.EvaluationDatasetText')\n",
    "prompt_text_list = c.fetchall()\n",
    "# c.execute('SELECT model_id, prompt_id, response_text from demo.ModelResponse')\n",
    "# model_responses = c.fetchall()"
   ]
  },
  {
   "cell_type": "code",
   "execution_count": 5,
   "metadata": {},
   "outputs": [],
   "source": [
    "models = dict(model_names)\n",
    "promptid2text = dict(prompt_text_list)\n",
    "model_comparisons = {}\n",
    "for (mturk_run_id, _, _, _, m1, m2) in mturk_runs:\n",
    "    model_comparisons[mturk_run_id] = (models[m1].replace(' ', '_') + '-' + models[m2].replace(' ','_'),m1,m2)\n",
    "    # print(model_comparisons)\n",
    "model_text = {}\n",
    "\n",
    "# for (model_id, prompt_id, response_text) in model_responses: # hack for the ESL_3turn\n",
    "#     if model_id not in model_text:\n",
    "#         model_text[model_id] = {}\n",
    "#     model_text[model_id][prompt_id] = response_text\n",
    "data = []\n",
    "\n",
    "for (comp_id, worker, hit, dt, vote, mturk_run_id, prompt_id) in raw_eval_data:\n",
    "    m1 = model_comparisons[mturk_run_id][1]\n",
    "    m2 = model_comparisons[mturk_run_id][2]\n",
    "    # data.append((worker, mturk_run_id, prompt_id, m1, m2, promptid2text[prompt_id], \n",
    "    #              model_text[m1][prompt_id], model_text[m2][prompt_id], vote, dt))\n",
    "    data.append((worker, mturk_run_id, prompt_id, m1, m2, promptid2text[prompt_id], vote, dt)) # hack for the ESL_3turn"
   ]
  },
  {
   "cell_type": "code",
   "execution_count": 6,
   "metadata": {},
   "outputs": [
    {
     "output_type": "execute_result",
     "data": {
      "text/plain": [
       "               worker  mturk_run_id  prompt_id  model 1  model 2  \\\n",
       "0      A1QMM9XO2C16R1             1          1       31        5   \n",
       "1      A179BV6UDL0QD4             1          1       31        5   \n",
       "2      A1QMM9XO2C16R1             1          1       31        5   \n",
       "3      A2142IL8LQ5RL5             1          2       31        5   \n",
       "4       ABCMQPOVOV0PQ             1          2       31        5   \n",
       "...               ...           ...        ...      ...      ...   \n",
       "99291  A345TDMHP3DQ3G           126       4199      112       74   \n",
       "99292  A2FNAYH5134XJ4           126       4199      112       74   \n",
       "99293  A307GIMK5CZLVY           126       4200      112       74   \n",
       "99294  A2WNW8A4MOR7T7           126       4200      112       74   \n",
       "99295   AKTPX8XVONC0D           126       4200      112       74   \n",
       "\n",
       "                                             prompt_text  vote  \\\n",
       "0                                 what is two plus two ?     1   \n",
       "1                                 what is two plus two ?     0   \n",
       "2                                 what is two plus two ?     0   \n",
       "3                                    what is your name ?    -1   \n",
       "4                                    what is your name ?    -1   \n",
       "...                                                  ...   ...   \n",
       "99291  A Can you please shut up?\\nB  Maybe if you ask...     0   \n",
       "99292  A Can you please shut up?\\nB  Maybe if you ask...     0   \n",
       "99293  A What are those wipes for?\\nB  You use them t...    -1   \n",
       "99294  A What are those wipes for?\\nB  You use them t...     0   \n",
       "99295  A What are those wipes for?\\nB  You use them t...     0   \n",
       "\n",
       "                     date  \n",
       "0     2018-03-15 04:06:25  \n",
       "1     2018-03-15 02:45:41  \n",
       "2     2018-03-15 04:02:04  \n",
       "3     2018-03-15 03:58:34  \n",
       "4     2018-03-15 03:12:08  \n",
       "...                   ...  \n",
       "99291 2020-07-18 04:24:23  \n",
       "99292 2020-07-18 04:24:23  \n",
       "99293 2020-07-18 04:24:23  \n",
       "99294 2020-07-18 04:24:23  \n",
       "99295 2020-07-18 04:24:23  \n",
       "\n",
       "[99296 rows x 8 columns]"
      ],
      "text/html": "<div>\n<style scoped>\n    .dataframe tbody tr th:only-of-type {\n        vertical-align: middle;\n    }\n\n    .dataframe tbody tr th {\n        vertical-align: top;\n    }\n\n    .dataframe thead th {\n        text-align: right;\n    }\n</style>\n<table border=\"1\" class=\"dataframe\">\n  <thead>\n    <tr style=\"text-align: right;\">\n      <th></th>\n      <th>worker</th>\n      <th>mturk_run_id</th>\n      <th>prompt_id</th>\n      <th>model 1</th>\n      <th>model 2</th>\n      <th>prompt_text</th>\n      <th>vote</th>\n      <th>date</th>\n    </tr>\n  </thead>\n  <tbody>\n    <tr>\n      <th>0</th>\n      <td>A1QMM9XO2C16R1</td>\n      <td>1</td>\n      <td>1</td>\n      <td>31</td>\n      <td>5</td>\n      <td>what is two plus two ?</td>\n      <td>1</td>\n      <td>2018-03-15 04:06:25</td>\n    </tr>\n    <tr>\n      <th>1</th>\n      <td>A179BV6UDL0QD4</td>\n      <td>1</td>\n      <td>1</td>\n      <td>31</td>\n      <td>5</td>\n      <td>what is two plus two ?</td>\n      <td>0</td>\n      <td>2018-03-15 02:45:41</td>\n    </tr>\n    <tr>\n      <th>2</th>\n      <td>A1QMM9XO2C16R1</td>\n      <td>1</td>\n      <td>1</td>\n      <td>31</td>\n      <td>5</td>\n      <td>what is two plus two ?</td>\n      <td>0</td>\n      <td>2018-03-15 04:02:04</td>\n    </tr>\n    <tr>\n      <th>3</th>\n      <td>A2142IL8LQ5RL5</td>\n      <td>1</td>\n      <td>2</td>\n      <td>31</td>\n      <td>5</td>\n      <td>what is your name ?</td>\n      <td>-1</td>\n      <td>2018-03-15 03:58:34</td>\n    </tr>\n    <tr>\n      <th>4</th>\n      <td>ABCMQPOVOV0PQ</td>\n      <td>1</td>\n      <td>2</td>\n      <td>31</td>\n      <td>5</td>\n      <td>what is your name ?</td>\n      <td>-1</td>\n      <td>2018-03-15 03:12:08</td>\n    </tr>\n    <tr>\n      <th>...</th>\n      <td>...</td>\n      <td>...</td>\n      <td>...</td>\n      <td>...</td>\n      <td>...</td>\n      <td>...</td>\n      <td>...</td>\n      <td>...</td>\n    </tr>\n    <tr>\n      <th>99291</th>\n      <td>A345TDMHP3DQ3G</td>\n      <td>126</td>\n      <td>4199</td>\n      <td>112</td>\n      <td>74</td>\n      <td>A Can you please shut up?\\nB  Maybe if you ask...</td>\n      <td>0</td>\n      <td>2020-07-18 04:24:23</td>\n    </tr>\n    <tr>\n      <th>99292</th>\n      <td>A2FNAYH5134XJ4</td>\n      <td>126</td>\n      <td>4199</td>\n      <td>112</td>\n      <td>74</td>\n      <td>A Can you please shut up?\\nB  Maybe if you ask...</td>\n      <td>0</td>\n      <td>2020-07-18 04:24:23</td>\n    </tr>\n    <tr>\n      <th>99293</th>\n      <td>A307GIMK5CZLVY</td>\n      <td>126</td>\n      <td>4200</td>\n      <td>112</td>\n      <td>74</td>\n      <td>A What are those wipes for?\\nB  You use them t...</td>\n      <td>-1</td>\n      <td>2020-07-18 04:24:23</td>\n    </tr>\n    <tr>\n      <th>99294</th>\n      <td>A2WNW8A4MOR7T7</td>\n      <td>126</td>\n      <td>4200</td>\n      <td>112</td>\n      <td>74</td>\n      <td>A What are those wipes for?\\nB  You use them t...</td>\n      <td>0</td>\n      <td>2020-07-18 04:24:23</td>\n    </tr>\n    <tr>\n      <th>99295</th>\n      <td>AKTPX8XVONC0D</td>\n      <td>126</td>\n      <td>4200</td>\n      <td>112</td>\n      <td>74</td>\n      <td>A What are those wipes for?\\nB  You use them t...</td>\n      <td>0</td>\n      <td>2020-07-18 04:24:23</td>\n    </tr>\n  </tbody>\n</table>\n<p>99296 rows × 8 columns</p>\n</div>"
     },
     "metadata": {},
     "execution_count": 6
    }
   ],
   "source": [
    "# datadf = pd.DataFrame(data, columns=['worker', 'mturk_run_id', 'prompt_id', 'model 1', 'model 2', 'prompt_text', 'model 1 resp', 'model 2 resp', 'vote', 'date'])\n",
    "datadf = pd.DataFrame(data, columns=['worker', 'mturk_run_id', 'prompt_id', 'model 1', 'model 2', 'prompt_text', 'vote', 'date']) # hack for the ESL_3turn\n",
    "datadf"
   ]
  },
  {
   "cell_type": "code",
   "execution_count": 7,
   "metadata": {},
   "outputs": [
    {
     "output_type": "execute_result",
     "data": {
      "text/plain": [
       "               worker  mturk_run_id  prompt_id  model 1  model 2  \\\n",
       "88502  A1DMP3A9A68VSI           109       4001      100      113   \n",
       "88503  A2E2ZE0SOY9UPW           109       4001      100      113   \n",
       "88504  A182N7RLXGSCZG           109       4001      100      113   \n",
       "88505  A2179410P3XBIQ           109       4002      100      113   \n",
       "88506  A1B7SDXORQ2QBX           109       4002      100      113   \n",
       "...               ...           ...        ...      ...      ...   \n",
       "89097   AFNP1C7IWHEPZ           109       4199      100      113   \n",
       "89098  A1L1S0IAPZB4MO           109       4199      100      113   \n",
       "89099  A3CNED54M9CQTJ           109       4200      100      113   \n",
       "89100  A2E2ZE0SOY9UPW           109       4200      100      113   \n",
       "89101   AWIV77HSLNTYH           109       4200      100      113   \n",
       "\n",
       "                                             prompt_text  vote  \\\n",
       "88502  A It's been very sunny lately, hasn't it?\\nB  ...     0   \n",
       "88503  A It's been very sunny lately, hasn't it?\\nB  ...     1   \n",
       "88504  A It's been very sunny lately, hasn't it?\\nB  ...     0   \n",
       "88505  A What are you going to do about your death?\\n...     0   \n",
       "88506  A What are you going to do about your death?\\n...     1   \n",
       "...                                                  ...   ...   \n",
       "89097  A Can you please shut up?\\nB  Maybe if you ask...    -1   \n",
       "89098  A Can you please shut up?\\nB  Maybe if you ask...     1   \n",
       "89099  A What are those wipes for?\\nB  You use them t...     0   \n",
       "89100  A What are those wipes for?\\nB  You use them t...     0   \n",
       "89101  A What are those wipes for?\\nB  You use them t...     0   \n",
       "\n",
       "                     date  \n",
       "88502 2020-07-18 00:21:32  \n",
       "88503 2020-07-18 00:21:32  \n",
       "88504 2020-07-18 00:21:32  \n",
       "88505 2020-07-18 00:21:32  \n",
       "88506 2020-07-18 00:21:32  \n",
       "...                   ...  \n",
       "89097 2020-07-18 00:21:32  \n",
       "89098 2020-07-18 00:21:32  \n",
       "89099 2020-07-18 00:21:32  \n",
       "89100 2020-07-18 00:21:32  \n",
       "89101 2020-07-18 00:21:32  \n",
       "\n",
       "[600 rows x 8 columns]"
      ],
      "text/html": "<div>\n<style scoped>\n    .dataframe tbody tr th:only-of-type {\n        vertical-align: middle;\n    }\n\n    .dataframe tbody tr th {\n        vertical-align: top;\n    }\n\n    .dataframe thead th {\n        text-align: right;\n    }\n</style>\n<table border=\"1\" class=\"dataframe\">\n  <thead>\n    <tr style=\"text-align: right;\">\n      <th></th>\n      <th>worker</th>\n      <th>mturk_run_id</th>\n      <th>prompt_id</th>\n      <th>model 1</th>\n      <th>model 2</th>\n      <th>prompt_text</th>\n      <th>vote</th>\n      <th>date</th>\n    </tr>\n  </thead>\n  <tbody>\n    <tr>\n      <th>88502</th>\n      <td>A1DMP3A9A68VSI</td>\n      <td>109</td>\n      <td>4001</td>\n      <td>100</td>\n      <td>113</td>\n      <td>A It's been very sunny lately, hasn't it?\\nB  ...</td>\n      <td>0</td>\n      <td>2020-07-18 00:21:32</td>\n    </tr>\n    <tr>\n      <th>88503</th>\n      <td>A2E2ZE0SOY9UPW</td>\n      <td>109</td>\n      <td>4001</td>\n      <td>100</td>\n      <td>113</td>\n      <td>A It's been very sunny lately, hasn't it?\\nB  ...</td>\n      <td>1</td>\n      <td>2020-07-18 00:21:32</td>\n    </tr>\n    <tr>\n      <th>88504</th>\n      <td>A182N7RLXGSCZG</td>\n      <td>109</td>\n      <td>4001</td>\n      <td>100</td>\n      <td>113</td>\n      <td>A It's been very sunny lately, hasn't it?\\nB  ...</td>\n      <td>0</td>\n      <td>2020-07-18 00:21:32</td>\n    </tr>\n    <tr>\n      <th>88505</th>\n      <td>A2179410P3XBIQ</td>\n      <td>109</td>\n      <td>4002</td>\n      <td>100</td>\n      <td>113</td>\n      <td>A What are you going to do about your death?\\n...</td>\n      <td>0</td>\n      <td>2020-07-18 00:21:32</td>\n    </tr>\n    <tr>\n      <th>88506</th>\n      <td>A1B7SDXORQ2QBX</td>\n      <td>109</td>\n      <td>4002</td>\n      <td>100</td>\n      <td>113</td>\n      <td>A What are you going to do about your death?\\n...</td>\n      <td>1</td>\n      <td>2020-07-18 00:21:32</td>\n    </tr>\n    <tr>\n      <th>...</th>\n      <td>...</td>\n      <td>...</td>\n      <td>...</td>\n      <td>...</td>\n      <td>...</td>\n      <td>...</td>\n      <td>...</td>\n      <td>...</td>\n    </tr>\n    <tr>\n      <th>89097</th>\n      <td>AFNP1C7IWHEPZ</td>\n      <td>109</td>\n      <td>4199</td>\n      <td>100</td>\n      <td>113</td>\n      <td>A Can you please shut up?\\nB  Maybe if you ask...</td>\n      <td>-1</td>\n      <td>2020-07-18 00:21:32</td>\n    </tr>\n    <tr>\n      <th>89098</th>\n      <td>A1L1S0IAPZB4MO</td>\n      <td>109</td>\n      <td>4199</td>\n      <td>100</td>\n      <td>113</td>\n      <td>A Can you please shut up?\\nB  Maybe if you ask...</td>\n      <td>1</td>\n      <td>2020-07-18 00:21:32</td>\n    </tr>\n    <tr>\n      <th>89099</th>\n      <td>A3CNED54M9CQTJ</td>\n      <td>109</td>\n      <td>4200</td>\n      <td>100</td>\n      <td>113</td>\n      <td>A What are those wipes for?\\nB  You use them t...</td>\n      <td>0</td>\n      <td>2020-07-18 00:21:32</td>\n    </tr>\n    <tr>\n      <th>89100</th>\n      <td>A2E2ZE0SOY9UPW</td>\n      <td>109</td>\n      <td>4200</td>\n      <td>100</td>\n      <td>113</td>\n      <td>A What are those wipes for?\\nB  You use them t...</td>\n      <td>0</td>\n      <td>2020-07-18 00:21:32</td>\n    </tr>\n    <tr>\n      <th>89101</th>\n      <td>AWIV77HSLNTYH</td>\n      <td>109</td>\n      <td>4200</td>\n      <td>100</td>\n      <td>113</td>\n      <td>A What are those wipes for?\\nB  You use them t...</td>\n      <td>0</td>\n      <td>2020-07-18 00:21:32</td>\n    </tr>\n  </tbody>\n</table>\n<p>600 rows × 8 columns</p>\n</div>"
     },
     "metadata": {},
     "execution_count": 7
    }
   ],
   "source": [
    "new = datadf.loc[(datadf['model 1'] == 100) & (datadf['model 2'] == 113)] \n",
    "# datadf\n",
    "# datadf.to_excel('turker.xlsx')\n",
    "new"
   ]
  },
  {
   "cell_type": "code",
   "execution_count": 8,
   "metadata": {},
   "outputs": [
    {
     "output_type": "execute_result",
     "data": {
      "text/plain": [
       "    model id                                   model name\n",
       "0          5                                     CakeChat\n",
       "1         83                                      Chatbot\n",
       "2         84                  Chatbot with new embeddings\n",
       "3         86                                    ChatbotII\n",
       "4         20                    Cornell Movie DC Baseline\n",
       "..       ...                                          ...\n",
       "58        22                                  Transformer\n",
       "59        21                Transformer (target filtered)\n",
       "60        23  Transformer (target filtered) (not overfit)\n",
       "61        19                             Twitter Baseline\n",
       "62        24                                Twitter Model\n",
       "\n",
       "[63 rows x 2 columns]"
      ],
      "text/html": "<div>\n<style scoped>\n    .dataframe tbody tr th:only-of-type {\n        vertical-align: middle;\n    }\n\n    .dataframe tbody tr th {\n        vertical-align: top;\n    }\n\n    .dataframe thead th {\n        text-align: right;\n    }\n</style>\n<table border=\"1\" class=\"dataframe\">\n  <thead>\n    <tr style=\"text-align: right;\">\n      <th></th>\n      <th>model id</th>\n      <th>model name</th>\n    </tr>\n  </thead>\n  <tbody>\n    <tr>\n      <th>0</th>\n      <td>5</td>\n      <td>CakeChat</td>\n    </tr>\n    <tr>\n      <th>1</th>\n      <td>83</td>\n      <td>Chatbot</td>\n    </tr>\n    <tr>\n      <th>2</th>\n      <td>84</td>\n      <td>Chatbot with new embeddings</td>\n    </tr>\n    <tr>\n      <th>3</th>\n      <td>86</td>\n      <td>ChatbotII</td>\n    </tr>\n    <tr>\n      <th>4</th>\n      <td>20</td>\n      <td>Cornell Movie DC Baseline</td>\n    </tr>\n    <tr>\n      <th>...</th>\n      <td>...</td>\n      <td>...</td>\n    </tr>\n    <tr>\n      <th>58</th>\n      <td>22</td>\n      <td>Transformer</td>\n    </tr>\n    <tr>\n      <th>59</th>\n      <td>21</td>\n      <td>Transformer (target filtered)</td>\n    </tr>\n    <tr>\n      <th>60</th>\n      <td>23</td>\n      <td>Transformer (target filtered) (not overfit)</td>\n    </tr>\n    <tr>\n      <th>61</th>\n      <td>19</td>\n      <td>Twitter Baseline</td>\n    </tr>\n    <tr>\n      <th>62</th>\n      <td>24</td>\n      <td>Twitter Model</td>\n    </tr>\n  </tbody>\n</table>\n<p>63 rows × 2 columns</p>\n</div>"
     },
     "metadata": {},
     "execution_count": 8
    }
   ],
   "source": [
    "pd.DataFrame(model_names, columns=['model id', 'model name'])"
   ]
  },
  {
   "cell_type": "code",
   "execution_count": 9,
   "metadata": {},
   "outputs": [
    {
     "output_type": "stream",
     "name": "stdout",
     "text": [
      "All agreed: 36\nA/B disagreed: 21\none person diagreement: 122\nAll disagreed: 42\nTotal voting counts by utterance (200): 200\n"
     ]
    }
   ],
   "source": [
    "new = datadf.loc[(datadf['model 1'] == 112) & (datadf['model 2'] == 100)] \n",
    "\n",
    "category = [-1, 0, 1]\n",
    "# A/B comparison  0 : A win / 1: B win / -1: tie \n",
    "one_person_disagree_count = 0\n",
    "all_agreement_count = 0\n",
    "all_disagreement_count = 0\n",
    "a_b_disagreement_count = 0\n",
    "  \n",
    "\n",
    "temp_list = []\n",
    "\n",
    "for data in range(4001, 4201): #movie\n",
    "# for data in range(4001, 4201): #ESL_3turn\n",
    "# for data in range(3001, 4001): #Cornell\n",
    "# for data in range(2601, 2801): #Twitter\n",
    "# for data in range(201, 401): #DBDC\n",
    "# for data in range(1, 201): #NCM\n",
    "  label_count = 0\n",
    "  voter_person_count = len(new.loc[(new['prompt_id'] == data)])\n",
    "  if voter_person_count == 3: # three voters\n",
    "    label_1 = len(new.loc[(new['prompt_id'] == data) & (new['vote'] == category[0]) ]) # tie\n",
    "    label_2 = len(new.loc[(new['prompt_id'] == data) & (new['vote'] == category[1]) ]) # A win\n",
    "    label_3 = len(new.loc[(new['prompt_id'] == data) & (new['vote'] == category[2]) ]) # B win\n",
    "\n",
    "    temp_list = [label_1, label_2, label_3] #[2, 0, 1] means 2 voters pick the tie and the other one pick B win\n",
    "    # print(temp_list)\n",
    "  \n",
    "    if temp_list == [0,2,1] or temp_list == [0,1,2]: #I was intending that disagreement was when I chose A and you chose B, But if I chose tie then  it isn't a disagreement\n",
    "      a_b_disagreement_count += 1\n",
    "\n",
    "    if 2 in temp_list:\n",
    "      one_person_disagree_count += 1\n",
    "    if 3 in temp_list:\n",
    "      all_agreement_count += 1\n",
    "    if temp_list[0] == 1 and temp_list[1] == 1 and temp_list[2] == 1:\n",
    "      all_disagreement_count += 1\n",
    "      \n",
    "  # elif voter_person_count == 2: # only 2 voters\n",
    "  #   print(\"Found!!\")\n",
    "  #   label_1 = len(new.loc[(new['prompt_id'] == data) & (new['vote'] == category[0]) ])\n",
    "  #   label_2 = len(new.loc[(new['prompt_id'] == data) & (new['vote'] == category[1]) ])\n",
    "  #   label_3 = len(new.loc[(new['prompt_id'] == data) & (new['vote'] == category[2]) ])\n",
    "\n",
    "  #   temp_list = [label_1, label_2, label_3]\n",
    "\n",
    "  #   if temp_list == [0,1,1] or temp_list == [2,0,0]: #only cares A/B who wins (not consider the tie)\n",
    "  #     a_b_disagreement_count += 1\n",
    "\n",
    "  #   if 1 in temp_list:\n",
    "  #     all_disagreement_count += 1\n",
    "  #   elif 2 in temp_list:\n",
    "  #     all_agreement_count += 1\n",
    "  \n",
    "  elif voter_person_count == 5: # five voters\n",
    "    label_1 = len(new.loc[(new['prompt_id'] == data) & (new['vote'] == category[0]) ])\n",
    "    label_2 = len(new.loc[(new['prompt_id'] == data) & (new['vote'] == category[1]) ])\n",
    "    label_3 = len(new.loc[(new['prompt_id'] == data) & (new['vote'] == category[2]) ])\n",
    "\n",
    "    temp_list = [label_1, label_2, label_3]\n",
    "\n",
    "    if temp_list == [0, 2, 3] or temp_list == [0,3,2] or temp_list == [0,1,4]  or temp_list == [0,4,1]: #only cares A/B who wins (not consider the tie)\n",
    "      a_b_disagreement_count += 1\n",
    "\n",
    "    if 2 in temp_list:\n",
    "      one_person_disagree_count += 1\n",
    "    elif 3 in temp_list:\n",
    "      one_person_disagree_count += 1\n",
    "    elif 4 in temp_list:\n",
    "      one_person_disagree_count += 1\n",
    "    if 5 in temp_list:\n",
    "      all_agreement_count += 1\n",
    "    # if temp_list[0] == 1 and temp_list[1] == 1 and temp_list[2] == 1:\n",
    "    #   all_disagreement_count += 1\n",
    "    \n",
    "\n",
    "\n",
    "print(\"All agreed:\", all_agreement_count)\n",
    "print(\"A/B disagreed:\", a_b_disagreement_count )\n",
    "print(\"one person diagreement:\", one_person_disagree_count)\n",
    "print(\"All disagreed:\", all_disagreement_count )\n",
    "\n",
    "total = one_person_disagree_count + all_agreement_count + all_disagreement_count \n",
    "print(\"Total voting counts by utterance (200):\", total)"
   ]
  },
  {
   "cell_type": "code",
   "execution_count": 10,
   "metadata": {},
   "outputs": [
    {
     "output_type": "execute_result",
     "data": {
      "text/plain": [
       "               worker  mturk_run_id  prompt_id  model 1  model 2  \\\n",
       "86114  A17DZTQCQMPC9A           105       4001      100       50   \n",
       "86115  A1TK9VM3WZDAGP           105       4001      100       50   \n",
       "86116   A421VR3CYMQKN           105       4001      100       50   \n",
       "86117  A345TDMHP3DQ3G           105       4002      100       50   \n",
       "86118  A1L1S0IAPZB4MO           105       4002      100       50   \n",
       "...               ...           ...        ...      ...      ...   \n",
       "99291  A345TDMHP3DQ3G           126       4199      112       74   \n",
       "99292  A2FNAYH5134XJ4           126       4199      112       74   \n",
       "99293  A307GIMK5CZLVY           126       4200      112       74   \n",
       "99294  A2WNW8A4MOR7T7           126       4200      112       74   \n",
       "99295   AKTPX8XVONC0D           126       4200      112       74   \n",
       "\n",
       "                                             prompt_text  vote  \\\n",
       "86114  A It's been very sunny lately, hasn't it?\\nB  ...     0   \n",
       "86115  A It's been very sunny lately, hasn't it?\\nB  ...     0   \n",
       "86116  A It's been very sunny lately, hasn't it?\\nB  ...     0   \n",
       "86117  A What are you going to do about your death?\\n...     0   \n",
       "86118  A What are you going to do about your death?\\n...     0   \n",
       "...                                                  ...   ...   \n",
       "99291  A Can you please shut up?\\nB  Maybe if you ask...     0   \n",
       "99292  A Can you please shut up?\\nB  Maybe if you ask...     0   \n",
       "99293  A What are those wipes for?\\nB  You use them t...    -1   \n",
       "99294  A What are those wipes for?\\nB  You use them t...     0   \n",
       "99295  A What are those wipes for?\\nB  You use them t...     0   \n",
       "\n",
       "                     date  \n",
       "86114 2020-07-17 23:32:40  \n",
       "86115 2020-07-17 23:32:40  \n",
       "86116 2020-07-17 23:32:40  \n",
       "86117 2020-07-17 23:32:40  \n",
       "86118 2020-07-17 23:32:40  \n",
       "...                   ...  \n",
       "99291 2020-07-18 04:24:23  \n",
       "99292 2020-07-18 04:24:23  \n",
       "99293 2020-07-18 04:24:23  \n",
       "99294 2020-07-18 04:24:23  \n",
       "99295 2020-07-18 04:24:23  \n",
       "\n",
       "[13182 rows x 8 columns]"
      ],
      "text/html": "<div>\n<style scoped>\n    .dataframe tbody tr th:only-of-type {\n        vertical-align: middle;\n    }\n\n    .dataframe tbody tr th {\n        vertical-align: top;\n    }\n\n    .dataframe thead th {\n        text-align: right;\n    }\n</style>\n<table border=\"1\" class=\"dataframe\">\n  <thead>\n    <tr style=\"text-align: right;\">\n      <th></th>\n      <th>worker</th>\n      <th>mturk_run_id</th>\n      <th>prompt_id</th>\n      <th>model 1</th>\n      <th>model 2</th>\n      <th>prompt_text</th>\n      <th>vote</th>\n      <th>date</th>\n    </tr>\n  </thead>\n  <tbody>\n    <tr>\n      <th>86114</th>\n      <td>A17DZTQCQMPC9A</td>\n      <td>105</td>\n      <td>4001</td>\n      <td>100</td>\n      <td>50</td>\n      <td>A It's been very sunny lately, hasn't it?\\nB  ...</td>\n      <td>0</td>\n      <td>2020-07-17 23:32:40</td>\n    </tr>\n    <tr>\n      <th>86115</th>\n      <td>A1TK9VM3WZDAGP</td>\n      <td>105</td>\n      <td>4001</td>\n      <td>100</td>\n      <td>50</td>\n      <td>A It's been very sunny lately, hasn't it?\\nB  ...</td>\n      <td>0</td>\n      <td>2020-07-17 23:32:40</td>\n    </tr>\n    <tr>\n      <th>86116</th>\n      <td>A421VR3CYMQKN</td>\n      <td>105</td>\n      <td>4001</td>\n      <td>100</td>\n      <td>50</td>\n      <td>A It's been very sunny lately, hasn't it?\\nB  ...</td>\n      <td>0</td>\n      <td>2020-07-17 23:32:40</td>\n    </tr>\n    <tr>\n      <th>86117</th>\n      <td>A345TDMHP3DQ3G</td>\n      <td>105</td>\n      <td>4002</td>\n      <td>100</td>\n      <td>50</td>\n      <td>A What are you going to do about your death?\\n...</td>\n      <td>0</td>\n      <td>2020-07-17 23:32:40</td>\n    </tr>\n    <tr>\n      <th>86118</th>\n      <td>A1L1S0IAPZB4MO</td>\n      <td>105</td>\n      <td>4002</td>\n      <td>100</td>\n      <td>50</td>\n      <td>A What are you going to do about your death?\\n...</td>\n      <td>0</td>\n      <td>2020-07-17 23:32:40</td>\n    </tr>\n    <tr>\n      <th>...</th>\n      <td>...</td>\n      <td>...</td>\n      <td>...</td>\n      <td>...</td>\n      <td>...</td>\n      <td>...</td>\n      <td>...</td>\n      <td>...</td>\n    </tr>\n    <tr>\n      <th>99291</th>\n      <td>A345TDMHP3DQ3G</td>\n      <td>126</td>\n      <td>4199</td>\n      <td>112</td>\n      <td>74</td>\n      <td>A Can you please shut up?\\nB  Maybe if you ask...</td>\n      <td>0</td>\n      <td>2020-07-18 04:24:23</td>\n    </tr>\n    <tr>\n      <th>99292</th>\n      <td>A2FNAYH5134XJ4</td>\n      <td>126</td>\n      <td>4199</td>\n      <td>112</td>\n      <td>74</td>\n      <td>A Can you please shut up?\\nB  Maybe if you ask...</td>\n      <td>0</td>\n      <td>2020-07-18 04:24:23</td>\n    </tr>\n    <tr>\n      <th>99293</th>\n      <td>A307GIMK5CZLVY</td>\n      <td>126</td>\n      <td>4200</td>\n      <td>112</td>\n      <td>74</td>\n      <td>A What are those wipes for?\\nB  You use them t...</td>\n      <td>-1</td>\n      <td>2020-07-18 04:24:23</td>\n    </tr>\n    <tr>\n      <th>99294</th>\n      <td>A2WNW8A4MOR7T7</td>\n      <td>126</td>\n      <td>4200</td>\n      <td>112</td>\n      <td>74</td>\n      <td>A What are those wipes for?\\nB  You use them t...</td>\n      <td>0</td>\n      <td>2020-07-18 04:24:23</td>\n    </tr>\n    <tr>\n      <th>99295</th>\n      <td>AKTPX8XVONC0D</td>\n      <td>126</td>\n      <td>4200</td>\n      <td>112</td>\n      <td>74</td>\n      <td>A What are those wipes for?\\nB  You use them t...</td>\n      <td>0</td>\n      <td>2020-07-18 04:24:23</td>\n    </tr>\n  </tbody>\n</table>\n<p>13182 rows × 8 columns</p>\n</div>"
     },
     "metadata": {},
     "execution_count": 10
    }
   ],
   "source": [
    "#ncm mturk_run_id: 5,6, 19 - 60, 101\n",
    "# datadf_new_1 = datadf.loc[(datadf['mturk_run_id'] >= 5) & (datadf['mturk_run_id'] <= 6)]\n",
    "# datadf_new_2 = datadf.loc[(datadf['mturk_run_id'] >= 19) & (datadf['mturk_run_id'] <= 60)] \n",
    "# datadf_new_3 = datadf.loc[(datadf['mturk_run_id'] == 101)] \n",
    "# frames = [datadf_new_1, datadf_new_2, datadf_new_3]\n",
    "# datadf_new = pd.concat(frames)\n",
    "# datadf_new\n",
    "\n",
    "#dbdc mturk_run_id: 61 - 75 \n",
    "# datadf_new = datadf.loc[(datadf['mturk_run_id'] >= 61) & (datadf['mturk_run_id'] <= 75)]\n",
    "# datadf_new\n",
    "\n",
    "#twitter mturk_run_id: 76 - 90 \n",
    "# datadf_new = datadf.loc[(datadf['mturk_run_id'] >= 76) & (datadf['mturk_run_id'] <= 90)]\n",
    "# datadf_new\n",
    "\n",
    "#cornell mturk_run_id: 91 - 100 \n",
    "# datadf_new = datadf.loc[(datadf['mturk_run_id'] >= 91) & (datadf['mturk_run_id'] <= 100)]\n",
    "# datadf_new\n",
    "\n",
    "#ESL_3turn mturk_run_id: 105 - 126\n",
    "datadf_new = datadf.loc[(datadf['mturk_run_id'] >= 105) & (datadf['mturk_run_id'] <= 126)]\n",
    "datadf_new"
   ]
  },
  {
   "cell_type": "code",
   "execution_count": 12,
   "metadata": {},
   "outputs": [
    {
     "output_type": "stream",
     "name": "stderr",
     "text": [
      "ipykernel_launcher:11: SettingWithCopyWarning: \nA value is trying to be set on a copy of a slice from a DataFrame.\nTry using .loc[row_indexer,col_indexer] = value instead\n\nSee the caveats in the documentation: http://pandas.pydata.org/pandas-docs/stable/user_guide/indexing.html#returning-a-view-versus-a-copy\nipykernel_launcher:12: SettingWithCopyWarning: \nA value is trying to be set on a copy of a slice from a DataFrame.\nTry using .loc[row_indexer,col_indexer] = value instead\n\nSee the caveats in the documentation: http://pandas.pydata.org/pandas-docs/stable/user_guide/indexing.html#returning-a-view-versus-a-copy\nipykernel_launcher:13: SettingWithCopyWarning: \nA value is trying to be set on a copy of a slice from a DataFrame.\nTry using .loc[row_indexer,col_indexer] = value instead\n\nSee the caveats in the documentation: http://pandas.pydata.org/pandas-docs/stable/user_guide/indexing.html#returning-a-view-versus-a-copy\nipykernel_launcher:14: SettingWithCopyWarning: \nA value is trying to be set on a copy of a slice from a DataFrame.\nTry using .loc[row_indexer,col_indexer] = value instead\n\nSee the caveats in the documentation: http://pandas.pydata.org/pandas-docs/stable/user_guide/indexing.html#returning-a-view-versus-a-copy\nipykernel_launcher:15: SettingWithCopyWarning: \nA value is trying to be set on a copy of a slice from a DataFrame.\nTry using .loc[row_indexer,col_indexer] = value instead\n\nSee the caveats in the documentation: http://pandas.pydata.org/pandas-docs/stable/user_guide/indexing.html#returning-a-view-versus-a-copy\nipykernel_launcher:16: SettingWithCopyWarning: \nA value is trying to be set on a copy of a slice from a DataFrame.\nTry using .loc[row_indexer,col_indexer] = value instead\n\nSee the caveats in the documentation: http://pandas.pydata.org/pandas-docs/stable/user_guide/indexing.html#returning-a-view-versus-a-copy\nipykernel_launcher:17: SettingWithCopyWarning: \nA value is trying to be set on a copy of a slice from a DataFrame.\nTry using .loc[row_indexer,col_indexer] = value instead\n\nSee the caveats in the documentation: http://pandas.pydata.org/pandas-docs/stable/user_guide/indexing.html#returning-a-view-versus-a-copy\nipykernel_launcher:18: SettingWithCopyWarning: \nA value is trying to be set on a copy of a slice from a DataFrame.\nTry using .loc[row_indexer,col_indexer] = value instead\n\nSee the caveats in the documentation: http://pandas.pydata.org/pandas-docs/stable/user_guide/indexing.html#returning-a-view-versus-a-copy\nipykernel_launcher:19: SettingWithCopyWarning: \nA value is trying to be set on a copy of a slice from a DataFrame.\nTry using .loc[row_indexer,col_indexer] = value instead\n\nSee the caveats in the documentation: http://pandas.pydata.org/pandas-docs/stable/user_guide/indexing.html#returning-a-view-versus-a-copy\n/Users/nicksubic/opt/anaconda3/envs/learn-env/lib/python3.6/site-packages/pandas/core/indexing.py:494: SettingWithCopyWarning: \nA value is trying to be set on a copy of a slice from a DataFrame.\nTry using .loc[row_indexer,col_indexer] = value instead\n\nSee the caveats in the documentation: http://pandas.pydata.org/pandas-docs/stable/user_guide/indexing.html#returning-a-view-versus-a-copy\n  self.obj[item] = s\n"
     ]
    }
   ],
   "source": [
    "# column info: \n",
    "# scrlan,trglan == evalset name\n",
    "# srcindex, segmentid == prompt_id\n",
    "# judgeId == worker_id\n",
    "# system1Id == Blender_id\n",
    "# system2Id == DialoGPT_id \n",
    "# system1rank == 1 if blender wins \n",
    "# system2rank == 2 if blender wins\n",
    "\n",
    "ranking = datadf_new\n",
    "ranking['system1rank'] = 0\n",
    "ranking['system2rank'] = 0\n",
    "ranking['srclang'] = 'ESL3turn'\n",
    "ranking['trglang'] = 'ESL3turn'\n",
    "ranking['srclndex'] = 0\n",
    "ranking['documentId'] = -1\n",
    "ranking['system1Number'] = -1\n",
    "ranking['segmentId'] = ranking['prompt_id']\n",
    "ranking['system2Number'] = -1\n",
    "\n",
    "for index, row in ranking.iterrows():\n",
    "  if row['vote'] == 0:\n",
    "    row['system1rank'] = ranking.loc[index, 'system1rank'] = 1\n",
    "    row['system2rank'] = ranking.loc[index, 'system2rank'] = 2\n",
    "  elif row['vote'] == 1:\n",
    "    row['system1rank'] = ranking.loc[index, 'system1rank'] = 2\n",
    "    row['system2rank'] = ranking.loc[index, 'system2rank'] = 1\n",
    "  elif row['vote'] == -1:\n",
    "    row['system1rank'] = ranking.loc[index, 'system1rank'] = 1\n",
    "    row['system2rank'] = ranking.loc[index, 'system2rank'] = 1\n",
    "\n",
    "ranking = ranking.rename(columns={\"model 1\": \"system1Id\", \"model 2\": \"system2Id\", \"prompt_id\": \"srcIndex\", \"worker\": \"judgeId\"})\n",
    "columnsTitles = ['mturk_run_id','srclang', 'trglang', 'srcIndex', 'documentId', 'segmentId', 'judgeId', 'system1Number', 'system1Id', 'system2Number', 'system2Id', 'system1rank', 'system2rank']\n",
    "frame = ranking.reindex(columns=columnsTitles)"
   ]
  },
  {
   "cell_type": "code",
   "execution_count": 13,
   "metadata": {},
   "outputs": [
    {
     "output_type": "execute_result",
     "data": {
      "text/plain": [
       "       mturk_run_id   srclang   trglang  srcIndex  documentId  segmentId  \\\n",
       "86114           105  ESL3turn  ESL3turn      4001          -1       4001   \n",
       "86115           105  ESL3turn  ESL3turn      4001          -1       4001   \n",
       "86116           105  ESL3turn  ESL3turn      4001          -1       4001   \n",
       "86117           105  ESL3turn  ESL3turn      4002          -1       4002   \n",
       "86118           105  ESL3turn  ESL3turn      4002          -1       4002   \n",
       "...             ...       ...       ...       ...         ...        ...   \n",
       "99291           126  ESL3turn  ESL3turn      4199          -1       4199   \n",
       "99292           126  ESL3turn  ESL3turn      4199          -1       4199   \n",
       "99293           126  ESL3turn  ESL3turn      4200          -1       4200   \n",
       "99294           126  ESL3turn  ESL3turn      4200          -1       4200   \n",
       "99295           126  ESL3turn  ESL3turn      4200          -1       4200   \n",
       "\n",
       "              judgeId  system1Number  system1Id  system2Number  system2Id  \\\n",
       "86114  A17DZTQCQMPC9A             -1        100             -1         50   \n",
       "86115  A1TK9VM3WZDAGP             -1        100             -1         50   \n",
       "86116   A421VR3CYMQKN             -1        100             -1         50   \n",
       "86117  A345TDMHP3DQ3G             -1        100             -1         50   \n",
       "86118  A1L1S0IAPZB4MO             -1        100             -1         50   \n",
       "...               ...            ...        ...            ...        ...   \n",
       "99291  A345TDMHP3DQ3G             -1        112             -1         74   \n",
       "99292  A2FNAYH5134XJ4             -1        112             -1         74   \n",
       "99293  A307GIMK5CZLVY             -1        112             -1         74   \n",
       "99294  A2WNW8A4MOR7T7             -1        112             -1         74   \n",
       "99295   AKTPX8XVONC0D             -1        112             -1         74   \n",
       "\n",
       "       system1rank  system2rank  \n",
       "86114            1            2  \n",
       "86115            1            2  \n",
       "86116            1            2  \n",
       "86117            1            2  \n",
       "86118            1            2  \n",
       "...            ...          ...  \n",
       "99291            1            2  \n",
       "99292            1            2  \n",
       "99293            1            1  \n",
       "99294            1            2  \n",
       "99295            1            2  \n",
       "\n",
       "[13182 rows x 13 columns]"
      ],
      "text/html": "<div>\n<style scoped>\n    .dataframe tbody tr th:only-of-type {\n        vertical-align: middle;\n    }\n\n    .dataframe tbody tr th {\n        vertical-align: top;\n    }\n\n    .dataframe thead th {\n        text-align: right;\n    }\n</style>\n<table border=\"1\" class=\"dataframe\">\n  <thead>\n    <tr style=\"text-align: right;\">\n      <th></th>\n      <th>mturk_run_id</th>\n      <th>srclang</th>\n      <th>trglang</th>\n      <th>srcIndex</th>\n      <th>documentId</th>\n      <th>segmentId</th>\n      <th>judgeId</th>\n      <th>system1Number</th>\n      <th>system1Id</th>\n      <th>system2Number</th>\n      <th>system2Id</th>\n      <th>system1rank</th>\n      <th>system2rank</th>\n    </tr>\n  </thead>\n  <tbody>\n    <tr>\n      <th>86114</th>\n      <td>105</td>\n      <td>ESL3turn</td>\n      <td>ESL3turn</td>\n      <td>4001</td>\n      <td>-1</td>\n      <td>4001</td>\n      <td>A17DZTQCQMPC9A</td>\n      <td>-1</td>\n      <td>100</td>\n      <td>-1</td>\n      <td>50</td>\n      <td>1</td>\n      <td>2</td>\n    </tr>\n    <tr>\n      <th>86115</th>\n      <td>105</td>\n      <td>ESL3turn</td>\n      <td>ESL3turn</td>\n      <td>4001</td>\n      <td>-1</td>\n      <td>4001</td>\n      <td>A1TK9VM3WZDAGP</td>\n      <td>-1</td>\n      <td>100</td>\n      <td>-1</td>\n      <td>50</td>\n      <td>1</td>\n      <td>2</td>\n    </tr>\n    <tr>\n      <th>86116</th>\n      <td>105</td>\n      <td>ESL3turn</td>\n      <td>ESL3turn</td>\n      <td>4001</td>\n      <td>-1</td>\n      <td>4001</td>\n      <td>A421VR3CYMQKN</td>\n      <td>-1</td>\n      <td>100</td>\n      <td>-1</td>\n      <td>50</td>\n      <td>1</td>\n      <td>2</td>\n    </tr>\n    <tr>\n      <th>86117</th>\n      <td>105</td>\n      <td>ESL3turn</td>\n      <td>ESL3turn</td>\n      <td>4002</td>\n      <td>-1</td>\n      <td>4002</td>\n      <td>A345TDMHP3DQ3G</td>\n      <td>-1</td>\n      <td>100</td>\n      <td>-1</td>\n      <td>50</td>\n      <td>1</td>\n      <td>2</td>\n    </tr>\n    <tr>\n      <th>86118</th>\n      <td>105</td>\n      <td>ESL3turn</td>\n      <td>ESL3turn</td>\n      <td>4002</td>\n      <td>-1</td>\n      <td>4002</td>\n      <td>A1L1S0IAPZB4MO</td>\n      <td>-1</td>\n      <td>100</td>\n      <td>-1</td>\n      <td>50</td>\n      <td>1</td>\n      <td>2</td>\n    </tr>\n    <tr>\n      <th>...</th>\n      <td>...</td>\n      <td>...</td>\n      <td>...</td>\n      <td>...</td>\n      <td>...</td>\n      <td>...</td>\n      <td>...</td>\n      <td>...</td>\n      <td>...</td>\n      <td>...</td>\n      <td>...</td>\n      <td>...</td>\n      <td>...</td>\n    </tr>\n    <tr>\n      <th>99291</th>\n      <td>126</td>\n      <td>ESL3turn</td>\n      <td>ESL3turn</td>\n      <td>4199</td>\n      <td>-1</td>\n      <td>4199</td>\n      <td>A345TDMHP3DQ3G</td>\n      <td>-1</td>\n      <td>112</td>\n      <td>-1</td>\n      <td>74</td>\n      <td>1</td>\n      <td>2</td>\n    </tr>\n    <tr>\n      <th>99292</th>\n      <td>126</td>\n      <td>ESL3turn</td>\n      <td>ESL3turn</td>\n      <td>4199</td>\n      <td>-1</td>\n      <td>4199</td>\n      <td>A2FNAYH5134XJ4</td>\n      <td>-1</td>\n      <td>112</td>\n      <td>-1</td>\n      <td>74</td>\n      <td>1</td>\n      <td>2</td>\n    </tr>\n    <tr>\n      <th>99293</th>\n      <td>126</td>\n      <td>ESL3turn</td>\n      <td>ESL3turn</td>\n      <td>4200</td>\n      <td>-1</td>\n      <td>4200</td>\n      <td>A307GIMK5CZLVY</td>\n      <td>-1</td>\n      <td>112</td>\n      <td>-1</td>\n      <td>74</td>\n      <td>1</td>\n      <td>1</td>\n    </tr>\n    <tr>\n      <th>99294</th>\n      <td>126</td>\n      <td>ESL3turn</td>\n      <td>ESL3turn</td>\n      <td>4200</td>\n      <td>-1</td>\n      <td>4200</td>\n      <td>A2WNW8A4MOR7T7</td>\n      <td>-1</td>\n      <td>112</td>\n      <td>-1</td>\n      <td>74</td>\n      <td>1</td>\n      <td>2</td>\n    </tr>\n    <tr>\n      <th>99295</th>\n      <td>126</td>\n      <td>ESL3turn</td>\n      <td>ESL3turn</td>\n      <td>4200</td>\n      <td>-1</td>\n      <td>4200</td>\n      <td>AKTPX8XVONC0D</td>\n      <td>-1</td>\n      <td>112</td>\n      <td>-1</td>\n      <td>74</td>\n      <td>1</td>\n      <td>2</td>\n    </tr>\n  </tbody>\n</table>\n<p>13182 rows × 13 columns</p>\n</div>"
     },
     "metadata": {},
     "execution_count": 13
    }
   ],
   "source": [
    "frame"
   ]
  },
  {
   "cell_type": "code",
   "execution_count": 14,
   "metadata": {},
   "outputs": [
    {
     "output_type": "execute_result",
     "data": {
      "text/plain": [
       "               worker  mturk_run_id  prompt_id  model 1  model 2  \\\n",
       "86114  A17DZTQCQMPC9A           105       4001      100       50   \n",
       "86115  A1TK9VM3WZDAGP           105       4001      100       50   \n",
       "86116   A421VR3CYMQKN           105       4001      100       50   \n",
       "86117  A345TDMHP3DQ3G           105       4002      100       50   \n",
       "86118  A1L1S0IAPZB4MO           105       4002      100       50   \n",
       "...               ...           ...        ...      ...      ...   \n",
       "99291  A345TDMHP3DQ3G           126       4199      112       74   \n",
       "99292  A2FNAYH5134XJ4           126       4199      112       74   \n",
       "99293  A307GIMK5CZLVY           126       4200      112       74   \n",
       "99294  A2WNW8A4MOR7T7           126       4200      112       74   \n",
       "99295   AKTPX8XVONC0D           126       4200      112       74   \n",
       "\n",
       "                                             prompt_text  vote  \\\n",
       "86114  A It's been very sunny lately, hasn't it?\\nB  ...     0   \n",
       "86115  A It's been very sunny lately, hasn't it?\\nB  ...     0   \n",
       "86116  A It's been very sunny lately, hasn't it?\\nB  ...     0   \n",
       "86117  A What are you going to do about your death?\\n...     0   \n",
       "86118  A What are you going to do about your death?\\n...     0   \n",
       "...                                                  ...   ...   \n",
       "99291  A Can you please shut up?\\nB  Maybe if you ask...     0   \n",
       "99292  A Can you please shut up?\\nB  Maybe if you ask...     0   \n",
       "99293  A What are those wipes for?\\nB  You use them t...    -1   \n",
       "99294  A What are those wipes for?\\nB  You use them t...     0   \n",
       "99295  A What are those wipes for?\\nB  You use them t...     0   \n",
       "\n",
       "                     date  \n",
       "86114 2020-07-17 23:32:40  \n",
       "86115 2020-07-17 23:32:40  \n",
       "86116 2020-07-17 23:32:40  \n",
       "86117 2020-07-17 23:32:40  \n",
       "86118 2020-07-17 23:32:40  \n",
       "...                   ...  \n",
       "99291 2020-07-18 04:24:23  \n",
       "99292 2020-07-18 04:24:23  \n",
       "99293 2020-07-18 04:24:23  \n",
       "99294 2020-07-18 04:24:23  \n",
       "99295 2020-07-18 04:24:23  \n",
       "\n",
       "[13182 rows x 8 columns]"
      ],
      "text/html": "<div>\n<style scoped>\n    .dataframe tbody tr th:only-of-type {\n        vertical-align: middle;\n    }\n\n    .dataframe tbody tr th {\n        vertical-align: top;\n    }\n\n    .dataframe thead th {\n        text-align: right;\n    }\n</style>\n<table border=\"1\" class=\"dataframe\">\n  <thead>\n    <tr style=\"text-align: right;\">\n      <th></th>\n      <th>worker</th>\n      <th>mturk_run_id</th>\n      <th>prompt_id</th>\n      <th>model 1</th>\n      <th>model 2</th>\n      <th>prompt_text</th>\n      <th>vote</th>\n      <th>date</th>\n    </tr>\n  </thead>\n  <tbody>\n    <tr>\n      <th>86114</th>\n      <td>A17DZTQCQMPC9A</td>\n      <td>105</td>\n      <td>4001</td>\n      <td>100</td>\n      <td>50</td>\n      <td>A It's been very sunny lately, hasn't it?\\nB  ...</td>\n      <td>0</td>\n      <td>2020-07-17 23:32:40</td>\n    </tr>\n    <tr>\n      <th>86115</th>\n      <td>A1TK9VM3WZDAGP</td>\n      <td>105</td>\n      <td>4001</td>\n      <td>100</td>\n      <td>50</td>\n      <td>A It's been very sunny lately, hasn't it?\\nB  ...</td>\n      <td>0</td>\n      <td>2020-07-17 23:32:40</td>\n    </tr>\n    <tr>\n      <th>86116</th>\n      <td>A421VR3CYMQKN</td>\n      <td>105</td>\n      <td>4001</td>\n      <td>100</td>\n      <td>50</td>\n      <td>A It's been very sunny lately, hasn't it?\\nB  ...</td>\n      <td>0</td>\n      <td>2020-07-17 23:32:40</td>\n    </tr>\n    <tr>\n      <th>86117</th>\n      <td>A345TDMHP3DQ3G</td>\n      <td>105</td>\n      <td>4002</td>\n      <td>100</td>\n      <td>50</td>\n      <td>A What are you going to do about your death?\\n...</td>\n      <td>0</td>\n      <td>2020-07-17 23:32:40</td>\n    </tr>\n    <tr>\n      <th>86118</th>\n      <td>A1L1S0IAPZB4MO</td>\n      <td>105</td>\n      <td>4002</td>\n      <td>100</td>\n      <td>50</td>\n      <td>A What are you going to do about your death?\\n...</td>\n      <td>0</td>\n      <td>2020-07-17 23:32:40</td>\n    </tr>\n    <tr>\n      <th>...</th>\n      <td>...</td>\n      <td>...</td>\n      <td>...</td>\n      <td>...</td>\n      <td>...</td>\n      <td>...</td>\n      <td>...</td>\n      <td>...</td>\n    </tr>\n    <tr>\n      <th>99291</th>\n      <td>A345TDMHP3DQ3G</td>\n      <td>126</td>\n      <td>4199</td>\n      <td>112</td>\n      <td>74</td>\n      <td>A Can you please shut up?\\nB  Maybe if you ask...</td>\n      <td>0</td>\n      <td>2020-07-18 04:24:23</td>\n    </tr>\n    <tr>\n      <th>99292</th>\n      <td>A2FNAYH5134XJ4</td>\n      <td>126</td>\n      <td>4199</td>\n      <td>112</td>\n      <td>74</td>\n      <td>A Can you please shut up?\\nB  Maybe if you ask...</td>\n      <td>0</td>\n      <td>2020-07-18 04:24:23</td>\n    </tr>\n    <tr>\n      <th>99293</th>\n      <td>A307GIMK5CZLVY</td>\n      <td>126</td>\n      <td>4200</td>\n      <td>112</td>\n      <td>74</td>\n      <td>A What are those wipes for?\\nB  You use them t...</td>\n      <td>-1</td>\n      <td>2020-07-18 04:24:23</td>\n    </tr>\n    <tr>\n      <th>99294</th>\n      <td>A2WNW8A4MOR7T7</td>\n      <td>126</td>\n      <td>4200</td>\n      <td>112</td>\n      <td>74</td>\n      <td>A What are those wipes for?\\nB  You use them t...</td>\n      <td>0</td>\n      <td>2020-07-18 04:24:23</td>\n    </tr>\n    <tr>\n      <th>99295</th>\n      <td>AKTPX8XVONC0D</td>\n      <td>126</td>\n      <td>4200</td>\n      <td>112</td>\n      <td>74</td>\n      <td>A What are those wipes for?\\nB  You use them t...</td>\n      <td>0</td>\n      <td>2020-07-18 04:24:23</td>\n    </tr>\n  </tbody>\n</table>\n<p>13182 rows × 8 columns</p>\n</div>"
     },
     "metadata": {},
     "execution_count": 14
    }
   ],
   "source": [
    "#ncm mturk_run_id: 5,6, 19 - 60, 101\n",
    "# datadf_new_1 = datadf.loc[(datadf['mturk_run_id'] >= 5) & (datadf['mturk_run_id'] <= 6)]\n",
    "# datadf_new_2 = datadf.loc[(datadf['mturk_run_id'] >= 19) & (datadf['mturk_run_id'] <= 60)] \n",
    "# datadf_new_3 = datadf.loc[(datadf['mturk_run_id'] == 101)] \n",
    "# frames = [datadf_new_1, datadf_new_2, datadf_new_3]\n",
    "# datadf_new = pd.concat(frames)\n",
    "# datadf_new\n",
    "\n",
    "#dbdc mturk_run_id: 61 - 75 \n",
    "# datadf_new = datadf.loc[(datadf['mturk_run_id'] >= 61) & (datadf['mturk_run_id'] <= 75)]\n",
    "# datadf_new\n",
    "\n",
    "#twitter mturk_run_id: 76 - 90 \n",
    "# datadf_new = datadf.loc[(datadf['mturk_run_id'] >= 76) & (datadf['mturk_run_id'] <= 90)]\n",
    "# datadf_new\n",
    "\n",
    "#cornell mturk_run_id: 91 - 100 \n",
    "# datadf_new = datadf.loc[(datadf['mturk_run_id'] >= 91) & (datadf['mturk_run_id'] <= 100)]\n",
    "# datadf_new\n",
    "\n",
    "#ESL_3turn mturk_run_id: 105 - 126\n",
    "datadf_new = datadf.loc[(datadf['mturk_run_id'] >= 105) & (datadf['mturk_run_id'] <= 126)]\n",
    "datadf_new"
   ]
  },
  {
   "cell_type": "code",
   "execution_count": 15,
   "metadata": {},
   "outputs": [
    {
     "output_type": "stream",
     "name": "stderr",
     "text": [
      "ipykernel_launcher:12: SettingWithCopyWarning: \nA value is trying to be set on a copy of a slice from a DataFrame.\nTry using .loc[row_indexer,col_indexer] = value instead\n\nSee the caveats in the documentation: http://pandas.pydata.org/pandas-docs/stable/user_guide/indexing.html#returning-a-view-versus-a-copy\nipykernel_launcher:13: SettingWithCopyWarning: \nA value is trying to be set on a copy of a slice from a DataFrame.\nTry using .loc[row_indexer,col_indexer] = value instead\n\nSee the caveats in the documentation: http://pandas.pydata.org/pandas-docs/stable/user_guide/indexing.html#returning-a-view-versus-a-copy\nipykernel_launcher:17: SettingWithCopyWarning: \nA value is trying to be set on a copy of a slice from a DataFrame.\nTry using .loc[row_indexer,col_indexer] = value instead\n\nSee the caveats in the documentation: http://pandas.pydata.org/pandas-docs/stable/user_guide/indexing.html#returning-a-view-versus-a-copy\n/Users/nicksubic/opt/anaconda3/envs/learn-env/lib/python3.6/site-packages/pandas/core/indexing.py:494: SettingWithCopyWarning: \nA value is trying to be set on a copy of a slice from a DataFrame.\nTry using .loc[row_indexer,col_indexer] = value instead\n\nSee the caveats in the documentation: http://pandas.pydata.org/pandas-docs/stable/user_guide/indexing.html#returning-a-view-versus-a-copy\n  self.obj[item] = s\n"
     ]
    }
   ],
   "source": [
    "# column info:\n",
    "# date, Player A, Player B, Wins A, Wins B \n",
    "# scrlan,trglan == evalset name\n",
    "# srcindex, segmentid == prompt_id\n",
    "# judgeId == worker_id\n",
    "# system1Id == Blender_id\n",
    "# system2Id == DialoGPT_id \n",
    "# system1rank == 1 if blender wins \n",
    "# system2rank == 2 if blender wins\n",
    "\n",
    "ranking = datadf_new\n",
    "ranking['Wins A'] = 0\n",
    "ranking['Wins B'] = 0\n",
    "\n",
    "\n",
    "for index, row in ranking.iterrows():\n",
    "  ranking['date'] = pd.to_datetime(ranking.loc[index, 'date']) \n",
    "  if row['vote'] == 0:\n",
    "    row['Wins A'] = ranking.loc[index, 'Wins A'] = 1\n",
    "    row['Wins B'] = ranking.loc[index, 'Wins B'] = 0\n",
    "  elif row['vote'] == 1:\n",
    "    row['Wins A'] = ranking.loc[index, 'Wins A'] = 0\n",
    "    row['Wins B'] = ranking.loc[index, 'Wins B'] = 1\n",
    "  elif row['vote'] == -1:\n",
    "    row['Wins A'] = ranking.loc[index, 'Wins A'] = 1\n",
    "    row['Wins B'] = ranking.loc[index, 'Wins B'] = 1\n",
    "    \n",
    "\n",
    "ranking = ranking.rename(columns={\"model 1\": \"Player A\", \"model 2\": \"Player B\", 'date': 'Date'})\n",
    "columnsTitles = ['Date', 'Player A', 'Player B', 'Wins A', 'Wins B']\n",
    "frame = ranking.reindex(columns=columnsTitles)"
   ]
  },
  {
   "cell_type": "code",
   "execution_count": 16,
   "metadata": {},
   "outputs": [
    {
     "output_type": "execute_result",
     "data": {
      "text/plain": [
       "               worker  mturk_run_id  prompt_id  Player A  Player B  \\\n",
       "86114  A17DZTQCQMPC9A           105       4001       100        50   \n",
       "86115  A1TK9VM3WZDAGP           105       4001       100        50   \n",
       "86116   A421VR3CYMQKN           105       4001       100        50   \n",
       "86117  A345TDMHP3DQ3G           105       4002       100        50   \n",
       "86118  A1L1S0IAPZB4MO           105       4002       100        50   \n",
       "...               ...           ...        ...       ...       ...   \n",
       "99291  A345TDMHP3DQ3G           126       4199       112        74   \n",
       "99292  A2FNAYH5134XJ4           126       4199       112        74   \n",
       "99293  A307GIMK5CZLVY           126       4200       112        74   \n",
       "99294  A2WNW8A4MOR7T7           126       4200       112        74   \n",
       "99295   AKTPX8XVONC0D           126       4200       112        74   \n",
       "\n",
       "                                             prompt_text  vote  \\\n",
       "86114  A It's been very sunny lately, hasn't it?\\nB  ...     0   \n",
       "86115  A It's been very sunny lately, hasn't it?\\nB  ...     0   \n",
       "86116  A It's been very sunny lately, hasn't it?\\nB  ...     0   \n",
       "86117  A What are you going to do about your death?\\n...     0   \n",
       "86118  A What are you going to do about your death?\\n...     0   \n",
       "...                                                  ...   ...   \n",
       "99291  A Can you please shut up?\\nB  Maybe if you ask...     0   \n",
       "99292  A Can you please shut up?\\nB  Maybe if you ask...     0   \n",
       "99293  A What are those wipes for?\\nB  You use them t...    -1   \n",
       "99294  A What are those wipes for?\\nB  You use them t...     0   \n",
       "99295  A What are those wipes for?\\nB  You use them t...     0   \n",
       "\n",
       "                     Date  Wins A  Wins B  \n",
       "86114 2020-07-17 23:32:40       1       0  \n",
       "86115 2020-07-17 23:32:40       1       0  \n",
       "86116 2020-07-17 23:32:40       1       0  \n",
       "86117 2020-07-17 23:32:40       1       0  \n",
       "86118 2020-07-17 23:32:40       1       0  \n",
       "...                   ...     ...     ...  \n",
       "99291 2020-07-17 23:32:40       1       0  \n",
       "99292 2020-07-17 23:32:40       1       0  \n",
       "99293 2020-07-17 23:32:40       1       1  \n",
       "99294 2020-07-17 23:32:40       1       0  \n",
       "99295 2020-07-17 23:32:40       1       0  \n",
       "\n",
       "[13182 rows x 10 columns]"
      ],
      "text/html": "<div>\n<style scoped>\n    .dataframe tbody tr th:only-of-type {\n        vertical-align: middle;\n    }\n\n    .dataframe tbody tr th {\n        vertical-align: top;\n    }\n\n    .dataframe thead th {\n        text-align: right;\n    }\n</style>\n<table border=\"1\" class=\"dataframe\">\n  <thead>\n    <tr style=\"text-align: right;\">\n      <th></th>\n      <th>worker</th>\n      <th>mturk_run_id</th>\n      <th>prompt_id</th>\n      <th>Player A</th>\n      <th>Player B</th>\n      <th>prompt_text</th>\n      <th>vote</th>\n      <th>Date</th>\n      <th>Wins A</th>\n      <th>Wins B</th>\n    </tr>\n  </thead>\n  <tbody>\n    <tr>\n      <th>86114</th>\n      <td>A17DZTQCQMPC9A</td>\n      <td>105</td>\n      <td>4001</td>\n      <td>100</td>\n      <td>50</td>\n      <td>A It's been very sunny lately, hasn't it?\\nB  ...</td>\n      <td>0</td>\n      <td>2020-07-17 23:32:40</td>\n      <td>1</td>\n      <td>0</td>\n    </tr>\n    <tr>\n      <th>86115</th>\n      <td>A1TK9VM3WZDAGP</td>\n      <td>105</td>\n      <td>4001</td>\n      <td>100</td>\n      <td>50</td>\n      <td>A It's been very sunny lately, hasn't it?\\nB  ...</td>\n      <td>0</td>\n      <td>2020-07-17 23:32:40</td>\n      <td>1</td>\n      <td>0</td>\n    </tr>\n    <tr>\n      <th>86116</th>\n      <td>A421VR3CYMQKN</td>\n      <td>105</td>\n      <td>4001</td>\n      <td>100</td>\n      <td>50</td>\n      <td>A It's been very sunny lately, hasn't it?\\nB  ...</td>\n      <td>0</td>\n      <td>2020-07-17 23:32:40</td>\n      <td>1</td>\n      <td>0</td>\n    </tr>\n    <tr>\n      <th>86117</th>\n      <td>A345TDMHP3DQ3G</td>\n      <td>105</td>\n      <td>4002</td>\n      <td>100</td>\n      <td>50</td>\n      <td>A What are you going to do about your death?\\n...</td>\n      <td>0</td>\n      <td>2020-07-17 23:32:40</td>\n      <td>1</td>\n      <td>0</td>\n    </tr>\n    <tr>\n      <th>86118</th>\n      <td>A1L1S0IAPZB4MO</td>\n      <td>105</td>\n      <td>4002</td>\n      <td>100</td>\n      <td>50</td>\n      <td>A What are you going to do about your death?\\n...</td>\n      <td>0</td>\n      <td>2020-07-17 23:32:40</td>\n      <td>1</td>\n      <td>0</td>\n    </tr>\n    <tr>\n      <th>...</th>\n      <td>...</td>\n      <td>...</td>\n      <td>...</td>\n      <td>...</td>\n      <td>...</td>\n      <td>...</td>\n      <td>...</td>\n      <td>...</td>\n      <td>...</td>\n      <td>...</td>\n    </tr>\n    <tr>\n      <th>99291</th>\n      <td>A345TDMHP3DQ3G</td>\n      <td>126</td>\n      <td>4199</td>\n      <td>112</td>\n      <td>74</td>\n      <td>A Can you please shut up?\\nB  Maybe if you ask...</td>\n      <td>0</td>\n      <td>2020-07-17 23:32:40</td>\n      <td>1</td>\n      <td>0</td>\n    </tr>\n    <tr>\n      <th>99292</th>\n      <td>A2FNAYH5134XJ4</td>\n      <td>126</td>\n      <td>4199</td>\n      <td>112</td>\n      <td>74</td>\n      <td>A Can you please shut up?\\nB  Maybe if you ask...</td>\n      <td>0</td>\n      <td>2020-07-17 23:32:40</td>\n      <td>1</td>\n      <td>0</td>\n    </tr>\n    <tr>\n      <th>99293</th>\n      <td>A307GIMK5CZLVY</td>\n      <td>126</td>\n      <td>4200</td>\n      <td>112</td>\n      <td>74</td>\n      <td>A What are those wipes for?\\nB  You use them t...</td>\n      <td>-1</td>\n      <td>2020-07-17 23:32:40</td>\n      <td>1</td>\n      <td>1</td>\n    </tr>\n    <tr>\n      <th>99294</th>\n      <td>A2WNW8A4MOR7T7</td>\n      <td>126</td>\n      <td>4200</td>\n      <td>112</td>\n      <td>74</td>\n      <td>A What are those wipes for?\\nB  You use them t...</td>\n      <td>0</td>\n      <td>2020-07-17 23:32:40</td>\n      <td>1</td>\n      <td>0</td>\n    </tr>\n    <tr>\n      <th>99295</th>\n      <td>AKTPX8XVONC0D</td>\n      <td>126</td>\n      <td>4200</td>\n      <td>112</td>\n      <td>74</td>\n      <td>A What are those wipes for?\\nB  You use them t...</td>\n      <td>0</td>\n      <td>2020-07-17 23:32:40</td>\n      <td>1</td>\n      <td>0</td>\n    </tr>\n  </tbody>\n</table>\n<p>13182 rows × 10 columns</p>\n</div>"
     },
     "metadata": {},
     "execution_count": 16
    }
   ],
   "source": [
    "ranking"
   ]
  },
  {
   "cell_type": "code",
   "execution_count": 26,
   "metadata": {},
   "outputs": [
    {
     "output_type": "execute_result",
     "data": {
      "text/plain": [
       "       Team  Opponent  Wins  Losses\n",
       "86114   100        50     1       0\n",
       "86115   100        50     1       0\n",
       "86116   100        50     1       0\n",
       "86117   100        50     1       0\n",
       "86118   100        50     1       0\n",
       "...     ...       ...   ...     ...\n",
       "99291   112        74     1       0\n",
       "99292   112        74     1       0\n",
       "99293   112        74     1       1\n",
       "99294   112        74     1       0\n",
       "99295   112        74     1       0\n",
       "\n",
       "[13182 rows x 4 columns]"
      ],
      "text/html": "<div>\n<style scoped>\n    .dataframe tbody tr th:only-of-type {\n        vertical-align: middle;\n    }\n\n    .dataframe tbody tr th {\n        vertical-align: top;\n    }\n\n    .dataframe thead th {\n        text-align: right;\n    }\n</style>\n<table border=\"1\" class=\"dataframe\">\n  <thead>\n    <tr style=\"text-align: right;\">\n      <th></th>\n      <th>Team</th>\n      <th>Opponent</th>\n      <th>Wins</th>\n      <th>Losses</th>\n    </tr>\n  </thead>\n  <tbody>\n    <tr>\n      <th>86114</th>\n      <td>100</td>\n      <td>50</td>\n      <td>1</td>\n      <td>0</td>\n    </tr>\n    <tr>\n      <th>86115</th>\n      <td>100</td>\n      <td>50</td>\n      <td>1</td>\n      <td>0</td>\n    </tr>\n    <tr>\n      <th>86116</th>\n      <td>100</td>\n      <td>50</td>\n      <td>1</td>\n      <td>0</td>\n    </tr>\n    <tr>\n      <th>86117</th>\n      <td>100</td>\n      <td>50</td>\n      <td>1</td>\n      <td>0</td>\n    </tr>\n    <tr>\n      <th>86118</th>\n      <td>100</td>\n      <td>50</td>\n      <td>1</td>\n      <td>0</td>\n    </tr>\n    <tr>\n      <th>...</th>\n      <td>...</td>\n      <td>...</td>\n      <td>...</td>\n      <td>...</td>\n    </tr>\n    <tr>\n      <th>99291</th>\n      <td>112</td>\n      <td>74</td>\n      <td>1</td>\n      <td>0</td>\n    </tr>\n    <tr>\n      <th>99292</th>\n      <td>112</td>\n      <td>74</td>\n      <td>1</td>\n      <td>0</td>\n    </tr>\n    <tr>\n      <th>99293</th>\n      <td>112</td>\n      <td>74</td>\n      <td>1</td>\n      <td>1</td>\n    </tr>\n    <tr>\n      <th>99294</th>\n      <td>112</td>\n      <td>74</td>\n      <td>1</td>\n      <td>0</td>\n    </tr>\n    <tr>\n      <th>99295</th>\n      <td>112</td>\n      <td>74</td>\n      <td>1</td>\n      <td>0</td>\n    </tr>\n  </tbody>\n</table>\n<p>13182 rows × 4 columns</p>\n</div>"
     },
     "metadata": {},
     "execution_count": 26
    }
   ],
   "source": [
    "# for r code bradley-terry running\n",
    "new_brad = frame[['Player A', 'Player B', 'Wins A', 'Wins B']]\n",
    "\n",
    "# rename column name as Team, Opponent, Wins, Losses\n",
    "# data ex)\n",
    "# Team Opponent Wins Losses\n",
    "# BAL BOS 11 8\n",
    "# BAL CLE 3 4 \n",
    "# # For each team in the AL table, identifies the team's name, the opponent,    # and their wins and losses (WL) against that opponent.\n",
    "new_brad.columns = ['Team', 'Opponent', 'Wins', 'Losses']\n",
    "new_brad"
   ]
  },
  {
   "cell_type": "code",
   "execution_count": 54,
   "metadata": {},
   "outputs": [
    {
     "output_type": "execute_result",
     "data": {
      "text/plain": [
       "Team  Wins\n",
       "5     1       1190\n",
       "      0        610\n",
       "50    1       1881\n",
       "      0        516\n",
       "51    1        977\n",
       "      0        220\n",
       "100   1       3176\n",
       "      0        412\n",
       "112   1       3014\n",
       "      0        586\n",
       "113   1        410\n",
       "      0        190\n",
       "Name: Wins, dtype: int64"
      ]
     },
     "metadata": {},
     "execution_count": 54
    }
   ],
   "source": [
    "new_brad.groupby(['Team'])['Wins'].value_counts()"
   ]
  },
  {
   "cell_type": "code",
   "execution_count": 18,
   "metadata": {},
   "outputs": [],
   "source": [
    "import sys\n",
    "\n",
    "sys.path.insert(1, \"../Documents/wmt-trueskill/src\")\n",
    "sys.path.insert(1, \"../Documents/wmt-trueskill/src/scripts\")\n",
    "sys.path.extend(['/content/wmt-trueskill', '/content/wmt-trueskill/src'])"
   ]
  },
  {
   "cell_type": "code",
   "execution_count": 19,
   "metadata": {},
   "outputs": [],
   "source": [
    "import os\n",
    "# os.chdir('/content')\n",
    "os.chdir('../Documents/wmt-trueskill/src')"
   ]
  },
  {
   "cell_type": "code",
   "execution_count": 20,
   "metadata": {},
   "outputs": [
    {
     "output_type": "stream",
     "name": "stdout",
     "text": [
      "cat: /content/twitter_ranking.csv: No such file or directory\n",
      "<_io.TextIOWrapper name='<stderr>' mode='w' encoding='utf-8'> Sampling 1 / 1 pairwise judgments\n",
      "Traceback (most recent call last):\n",
      "  File \"infer_TS.py\", line 223, in <module>\n",
      "    estimate_by_number()\n",
      "  File \"infer_TS.py\", line 168, in estimate_by_number\n",
      "    systems_compared = scripts.next_comparison.get(get_mu_sigma(system_rating), args.freeN)\n",
      "  File \"/Users/nicksubic/Documents/wmt-trueskill/src/scripts/next_comparison.py\", line 27, in get\n",
      "    sys_a = sort_by_sigma(sys_musigma)[0][1]\n",
      "IndexError: list index out of range\n"
     ]
    }
   ],
   "source": [
    "!cat /content/twitter_ranking.csv |python infer_TS.py ../results/twitter_ranking -n 2 -d 0 -s 2"
   ]
  },
  {
   "cell_type": "code",
   "execution_count": null,
   "metadata": {},
   "outputs": [],
   "source": []
  }
 ]
}